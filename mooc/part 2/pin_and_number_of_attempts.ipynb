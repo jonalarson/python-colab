{
 "cells": [
  {
   "cell_type": "markdown",
   "metadata": {},
   "source": [
    "# PIN and number of attempts\n",
    "---\n",
    "\n",
    "[Course Link](https://programming-23.mooc.fi/part-2/4-simple-loops)\n",
    "\n",
    "Please write a program which keeps asking the user for a PIN code until they type in the correct one, which is 4321. The program should then print out the number of times the user tried different codes.\n",
    "\n",
    "```bash\n",
    "PIN: 3245\n",
    "Wrong\n",
    "PIN: 1234\n",
    "Wrong\n",
    "PIN: 0000\n",
    "Wrong\n",
    "PIN: 4321\n",
    "Correct! It took you 4 attempts\n",
    "```\n",
    "\n",
    "If the user gets it right on the first try, the program should print out something a bit different:\n",
    "\n",
    "```bash\n",
    "PIN: 4321\n",
    "Correct! It only took you one single attempt!\n",
    "```"
   ]
  },
  {
   "cell_type": "markdown",
   "metadata": {},
   "source": [
    "## Notes:\n",
    "---\n",
    "I can't seem to get this right:("
   ]
  },
  {
   "cell_type": "code",
   "execution_count": 8,
   "metadata": {},
   "outputs": [
    {
     "name": "stdout",
     "output_type": "stream",
     "text": [
      "Correct! It only took you one single attempt!\n"
     ]
    }
   ],
   "source": [
    "attempts = 0\n",
    "correct_pin = \"4321\"\n",
    "max_attempts = 10\n",
    "\n",
    "while attempts < max_attempts:\n",
    "    code = input(\"PIN: \")\n",
    "    attempts += 1\n",
    "\n",
    "    if code == correct_pin:\n",
    "        if attempts == 1:\n",
    "            print(\"Correct! It only took you one single attempt!\")\n",
    "            break\n",
    "        else:\n",
    "            print(f\"Correct! It took you {attempts} attempts\")\n",
    "            break\n",
    "    else:\n",
    "        print(\"Wrong\")"
   ]
  },
  {
   "cell_type": "code",
   "execution_count": 18,
   "metadata": {},
   "outputs": [
    {
     "name": "stdout",
     "output_type": "stream",
     "text": [
      "50\n"
     ]
    }
   ],
   "source": [
    "def get_guess():\n",
    "    guess = int(input(\"What's your guess? \"))\n",
    "    return guess\n",
    "\n",
    "def main():\n",
    "    guess = get_guess()\n",
    "    if guess == 50:\n",
    "        print(\"Correct!\")\n",
    "    else:\n",
    "        print(\"Wrong!\")\n",
    "\n",
    "print(get_guess())"
   ]
  }
 ],
 "metadata": {
  "kernelspec": {
   "display_name": ".venv",
   "language": "python",
   "name": "python3"
  },
  "language_info": {
   "codemirror_mode": {
    "name": "ipython",
    "version": 3
   },
   "file_extension": ".py",
   "mimetype": "text/x-python",
   "name": "python",
   "nbconvert_exporter": "python",
   "pygments_lexer": "ipython3",
   "version": "3.12.4"
  }
 },
 "nbformat": 4,
 "nbformat_minor": 2
}
