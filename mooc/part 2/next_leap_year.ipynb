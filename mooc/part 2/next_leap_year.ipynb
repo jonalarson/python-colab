{
 "cells": [
  {
   "cell_type": "markdown",
   "metadata": {},
   "source": [
    "Here's a Python program that asks the user for a year and prints out the next leap year\n",
    "\n",
    "![Diagram](next_leap_year_diagram.png)"
   ]
  },
  {
   "cell_type": "code",
   "execution_count": 2,
   "metadata": {},
   "outputs": [],
   "source": [
    "def is_leap_year(year):\n",
    "    \"\"\"\n",
    "    Determine if a given year is a leap year.\n",
    "    \"\"\"\n",
    "    if year % 4 == 0:\n",
    "        if year % 100 == 0:\n",
    "            return True\n",
    "        else:\n",
    "            return False\n",
    "    else:\n",
    "        return False\n",
    "\n",
    "def next_leap_year(year):\n",
    "    \"\"\"\n",
    "    Find the next leap year after the given year.\n",
    "    \"\"\"\n",
    "    next_year = year + 1\n",
    "    while not is_leap_year(next_year):\n",
    "        next_year += 1\n",
    "    return next_year\n",
    "\n",
    "# Get user input\n",
    "user_year = int(input(\"Enter a year: \"))\n",
    "\n",
    "# Find and print the next leap year\n",
    "next_leap = next_leap_year(user_year)\n",
    "print(f\"The next leap year after {user_year} is {next_leap}\")\n"
   ]
  }
 ],
 "metadata": {
  "kernelspec": {
   "display_name": ".venv",
   "language": "python",
   "name": "python3"
  },
  "language_info": {
   "codemirror_mode": {
    "name": "ipython",
    "version": 3
   },
   "file_extension": ".py",
   "mimetype": "text/x-python",
   "name": "python",
   "nbconvert_exporter": "python",
   "pygments_lexer": "ipython3",
   "version": "3.12.4"
  }
 },
 "nbformat": 4,
 "nbformat_minor": 2
}
